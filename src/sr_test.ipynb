{
 "cells": [
  {
   "cell_type": "code",
   "execution_count": null,
   "metadata": {},
   "outputs": [],
   "source": [
    "import os\n",
    "import sys\n",
    "from PIL import Image\n",
    "\n",
    "origin_path = \"/home/kelly/work/sr/origin/\"\n",
    "mag_path = \"/home/kelly/work/sr/mag/\"\n",
    "\n",
    "ori = os.listdir(origin_path)\n",
    "\n",
    "for item in ori:\n",
    "    mname = item.split('.')[-2]\n",
    "    ext = item.split('.')[-1]\n",
    "    mname = mag_path + mname +\"_mag1.5.\"+ ext\n",
    "    print(item, mname)\n",
    "    image = Image.open(origin_path + item)\n",
    "    resize = image.resize((int(image.width*1.5), int(image.height*1.5)), Image.NEAREST)\n",
    "    resize.save(mname)\n",
    "    "
   ]
  },
  {
   "cell_type": "markdown",
   "metadata": {},
   "source": [
    "#### "
   ]
  },
  {
   "cell_type": "code",
   "execution_count": null,
   "metadata": {},
   "outputs": [],
   "source": [
    "import os\n",
    "os.environ[\"CUDA_DEVICE_ORDER\"]=\"PCI_BUS_ID\"   # see issue #152\n",
    "os.environ[\"CUDA_VISIBLE_DEVICES\"]=\"1\"\n",
    "import sys\n",
    "import h5py as h5\n",
    "import numpy as np\n",
    "from PIL import Image\n",
    "from ISR.models import RRDN, RDN\n",
    "\n",
    "prj = \"/home/kelly/work/armytdc_dev/sr/\"\n",
    "resource = \"/home/kelly/work/armytdc_dev/sr/mag/\"\n",
    "result = \"/home/kelly/work/armytdc_dev/sr/result/\"\n",
    "\n",
    "images = os.listdir(resource)\n",
    "\n",
    "#rdn = RDN(arch_params={'C':6, 'D':20, 'G':64, 'G0':64, 'x':2})\n",
    "#mpath = prj +'ArtefactCancelling/rdn-C6-D20-G64-G064-x2_ArtefactCancelling_epoch219.hdf5'\n",
    "print(mpath)\n",
    "rdn.model.load_weights(mpath)\n",
    "\n",
    "for image in images :\n",
    "    img = Image.open(resource + image)\n",
    "    #image = \"QBU6KKSX_400x400.jpeg\"\n",
    "    #img = Image.open(\"/home/kelly/work/sr/origin/QBU6KKSX_400x400.jpeg\")\n",
    "    mname = image.split('.')[-2]\n",
    "    ext = image.split('.')[-1]\n",
    "    mname = result + mname + \"_gan.\"+ext\n",
    "    print(mname)\n",
    "    lr_img = np.array(img)\n",
    "    #rdn = RRDN(weights='gans')\n",
    "    #rdn = RDN(weights='psnr-large')\n",
    "    sr_img = rdn.predict(lr_img)\n",
    "    im = Image.fromarray(sr_img)\n",
    "    im.save(mname)\n",
    "    "
   ]
  },
  {
   "cell_type": "code",
   "execution_count": 3,
   "metadata": {},
   "outputs": [],
   "source": [
    "import numpy as np\n",
    "from os.path import expanduser\n",
    "from PIL import Image\n",
    "from ISR.models import RDN, RRDN\n",
    "\n",
    "# RDN: psnr-large, psnr-small, noise-cancel\n",
    "# RRDN: gans\n",
    "\n",
    "model = RRDN(weights='gans')\n",
    "\n",
    "img = Image.open(expanduser('/home/kelly/work/armytdc_dev/sr/origin/7369.jpg'))\n",
    "lr_img = np.array(img)\n",
    "\n",
    "sr_img = model.predict(lr_img,)\n",
    "output = Image.fromarray(sr_img)\n",
    "output.save(expanduser('/home/kelly/work/armytdc_dev/sr/result/test3_gans.png'))"
   ]
  },
  {
   "cell_type": "code",
   "execution_count": null,
   "metadata": {},
   "outputs": [],
   "source": []
  }
 ],
 "metadata": {
  "kernelspec": {
   "display_name": "TF-GPU",
   "language": "python",
   "name": "tf-gpu"
  },
  "language_info": {
   "codemirror_mode": {
    "name": "ipython",
    "version": 3
   },
   "file_extension": ".py",
   "mimetype": "text/x-python",
   "name": "python",
   "nbconvert_exporter": "python",
   "pygments_lexer": "ipython3",
   "version": "3.6.12"
  }
 },
 "nbformat": 4,
 "nbformat_minor": 4
}
